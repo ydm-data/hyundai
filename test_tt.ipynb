{
 "cells": [
  {
   "cell_type": "code",
   "execution_count": 1,
   "metadata": {},
   "outputs": [],
   "source": [
    "import pandas as pd\n",
    "import json\n",
    "\n",
    "from dotenv import load_dotenv\n",
    "from datetime import datetime, timedelta, date\n",
    "import pytz\n",
    "import logging\n",
    "from flask import Flask, request\n",
    "import os\n",
    "\n",
    "from google.cloud import bigquery\n",
    "from googleapiclient.discovery import build\n",
    "from google.oauth2 import service_account\n",
    "from google.oauth2.service_account import Credentials\n",
    "\n",
    "from connector_GG import GG_Connector\n",
    "from connector_BQ import BQ_Connector\n",
    "from connector_TT import TT_connector\n",
    "from data_connector import Connector\n",
    "from helper_function import h_function"
   ]
  },
  {
   "cell_type": "code",
   "execution_count": 2,
   "metadata": {},
   "outputs": [],
   "source": [
    "service_account_info = \"C:/Users/Administrator/Downloads/hmth-448709-f61ccc04c28a.json\"\n",
    "credentials = service_account.Credentials.from_service_account_file(\n",
    "    service_account_info, scopes=['https://www.googleapis.com/auth/spreadsheets.readonly'])\n",
    "service = build('sheets', 'v4', credentials=credentials)"
   ]
  },
  {
   "cell_type": "code",
   "execution_count": 3,
   "metadata": {},
   "outputs": [],
   "source": [
    "advertiser_ids_list = h_function.get_account(service,\"Media Account!A1:ZZ\",'1S1Ew5r7RL9zvpvZc-Azd8Mc8tkAikitkw2mgAcAb4Ro',\"Account ID\", \"Tiktok\")"
   ]
  },
  {
   "cell_type": "code",
   "execution_count": 4,
   "metadata": {},
   "outputs": [
    {
     "data": {
      "text/plain": [
       "['7299294493159948290']"
      ]
     },
     "execution_count": 4,
     "metadata": {},
     "output_type": "execute_result"
    }
   ],
   "source": [
    "advertiser_ids_list"
   ]
  },
  {
   "cell_type": "code",
   "execution_count": 5,
   "metadata": {},
   "outputs": [],
   "source": [
    "metrics_list = TT_connector.get_main_metrics()\n",
    "data = TT_connector.get_data(advertiser_ids_list,metrics_list,14)\n",
    "data = TT_connector.convert_main_data(data)   "
   ]
  },
  {
   "cell_type": "code",
   "execution_count": 6,
   "metadata": {},
   "outputs": [
    {
     "data": {
      "text/html": [
       "<div>\n",
       "<style scoped>\n",
       "    .dataframe tbody tr th:only-of-type {\n",
       "        vertical-align: middle;\n",
       "    }\n",
       "\n",
       "    .dataframe tbody tr th {\n",
       "        vertical-align: top;\n",
       "    }\n",
       "\n",
       "    .dataframe thead th {\n",
       "        text-align: right;\n",
       "    }\n",
       "</style>\n",
       "<table border=\"1\" class=\"dataframe\">\n",
       "  <thead>\n",
       "    <tr style=\"text-align: right;\">\n",
       "      <th></th>\n",
       "      <th>stitch_clicks</th>\n",
       "      <th>is_aco</th>\n",
       "      <th>total_landing_page_view</th>\n",
       "      <th>likes</th>\n",
       "      <th>objective_type</th>\n",
       "      <th>clicks</th>\n",
       "      <th>cost_per_result</th>\n",
       "      <th>add_billing</th>\n",
       "      <th>ad_profile_image</th>\n",
       "      <th>registration</th>\n",
       "      <th>...</th>\n",
       "      <th>adgroup_name</th>\n",
       "      <th>download_start</th>\n",
       "      <th>cpm</th>\n",
       "      <th>video_views_p75</th>\n",
       "      <th>result_rate</th>\n",
       "      <th>engagements</th>\n",
       "      <th>ctr</th>\n",
       "      <th>total_pageview</th>\n",
       "      <th>shares</th>\n",
       "      <th>stat_time_day</th>\n",
       "    </tr>\n",
       "  </thead>\n",
       "  <tbody>\n",
       "    <tr>\n",
       "      <th>0</th>\n",
       "      <td>0.0</td>\n",
       "      <td>False</td>\n",
       "      <td>0.0</td>\n",
       "      <td>0.0</td>\n",
       "      <td>VIDEO_VIEWS</td>\n",
       "      <td>0.0</td>\n",
       "      <td>0.0</td>\n",
       "      <td>0.0</td>\n",
       "      <td>-</td>\n",
       "      <td>0.0</td>\n",
       "      <td>...</td>\n",
       "      <td>Motor Expo 2024 : Audience 1</td>\n",
       "      <td>0.0</td>\n",
       "      <td>0.0</td>\n",
       "      <td>0.0</td>\n",
       "      <td>0.0</td>\n",
       "      <td>0.0</td>\n",
       "      <td>0.0</td>\n",
       "      <td>0.0</td>\n",
       "      <td>0.0</td>\n",
       "      <td>2025-01-24</td>\n",
       "    </tr>\n",
       "    <tr>\n",
       "      <th>2</th>\n",
       "      <td>0.0</td>\n",
       "      <td>False</td>\n",
       "      <td>0.0</td>\n",
       "      <td>0.0</td>\n",
       "      <td>VIDEO_VIEWS</td>\n",
       "      <td>0.0</td>\n",
       "      <td>0.0</td>\n",
       "      <td>0.0</td>\n",
       "      <td>-</td>\n",
       "      <td>0.0</td>\n",
       "      <td>...</td>\n",
       "      <td>Motor Expo 2024 : Audience 1</td>\n",
       "      <td>0.0</td>\n",
       "      <td>0.0</td>\n",
       "      <td>0.0</td>\n",
       "      <td>0.0</td>\n",
       "      <td>0.0</td>\n",
       "      <td>0.0</td>\n",
       "      <td>0.0</td>\n",
       "      <td>0.0</td>\n",
       "      <td>2025-01-25</td>\n",
       "    </tr>\n",
       "  </tbody>\n",
       "</table>\n",
       "<p>2 rows × 83 columns</p>\n",
       "</div>"
      ],
      "text/plain": [
       "   stitch_clicks  is_aco  total_landing_page_view  likes objective_type  \\\n",
       "0            0.0   False                      0.0    0.0    VIDEO_VIEWS   \n",
       "2            0.0   False                      0.0    0.0    VIDEO_VIEWS   \n",
       "\n",
       "   clicks  cost_per_result  add_billing ad_profile_image  registration  ...  \\\n",
       "0     0.0              0.0          0.0                -           0.0  ...   \n",
       "2     0.0              0.0          0.0                -           0.0  ...   \n",
       "\n",
       "                   adgroup_name  download_start  cpm  video_views_p75  \\\n",
       "0  Motor Expo 2024 : Audience 1             0.0  0.0              0.0   \n",
       "2  Motor Expo 2024 : Audience 1             0.0  0.0              0.0   \n",
       "\n",
       "   result_rate  engagements  ctr  total_pageview  shares stat_time_day  \n",
       "0          0.0          0.0  0.0             0.0     0.0    2025-01-24  \n",
       "2          0.0          0.0  0.0             0.0     0.0    2025-01-25  \n",
       "\n",
       "[2 rows x 83 columns]"
      ]
     },
     "execution_count": 6,
     "metadata": {},
     "output_type": "execute_result"
    }
   ],
   "source": [
    "data.head()"
   ]
  }
 ],
 "metadata": {
  "kernelspec": {
   "display_name": "hmth-env",
   "language": "python",
   "name": "python3"
  },
  "language_info": {
   "codemirror_mode": {
    "name": "ipython",
    "version": 3
   },
   "file_extension": ".py",
   "mimetype": "text/x-python",
   "name": "python",
   "nbconvert_exporter": "python",
   "pygments_lexer": "ipython3",
   "version": "3.12.3"
  }
 },
 "nbformat": 4,
 "nbformat_minor": 2
}
